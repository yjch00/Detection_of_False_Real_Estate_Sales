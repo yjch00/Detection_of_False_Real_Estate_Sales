{
 "cells": [
  {
   "cell_type": "code",
   "execution_count": 1,
   "id": "cc9696e3",
   "metadata": {},
   "outputs": [],
   "source": [
    "import requests\n",
    "import pandas as pd\n",
    "import numpy as np\n",
    "import folium\n",
    "from folium.plugins import MiniMap\n",
    "import json\n",
    "import sys\n",
    "import collections\n",
    "import time\n",
    "from tqdm import tqdm\n",
    "from haversine import haversine_vector, Unit\n",
    "from collections import Counter\n",
    "\n",
    "from collections import ChainMap\n",
    "from asq.initiators import query"
   ]
  },
  {
   "cell_type": "markdown",
   "id": "e79c8bde",
   "metadata": {},
   "source": [
    "## 1. 주소데이터 불러오기"
   ]
  },
  {
   "cell_type": "code",
   "execution_count": 2,
   "id": "ffaf5c5e",
   "metadata": {},
   "outputs": [],
   "source": [
    "url = 'https://dapi.kakao.com/v2/local/search/keyword.json'\n",
    "headers = {\"Authorization\": \"KakaoAK \"} # ,
    "#headers = {\"Authorization\": \"KakaoAK \"} #,
    "#headers = {\"Authorization\": \"KakaoAK \"} #,
    "\n",
    "\n"
   ]
  },
  {
   "cell_type": "code",
   "execution_count": 3,
   "id": "ba363243",
   "metadata": {},
   "outputs": [],
   "source": [
    "data = pd.read_csv('./data/lat_lon.csv')"
   ]
  },
  {
   "cell_type": "code",
   "execution_count": 4,
   "id": "ec7cd05a",
   "metadata": {},
   "outputs": [
    {
     "data": {
      "text/html": [
       "<div>\n",
       "<style scoped>\n",
       "    .dataframe tbody tr th:only-of-type {\n",
       "        vertical-align: middle;\n",
       "    }\n",
       "\n",
       "    .dataframe tbody tr th {\n",
       "        vertical-align: top;\n",
       "    }\n",
       "\n",
       "    .dataframe thead th {\n",
       "        text-align: right;\n",
       "    }\n",
       "</style>\n",
       "<table border=\"1\" class=\"dataframe\">\n",
       "  <thead>\n",
       "    <tr style=\"text-align: right;\">\n",
       "      <th></th>\n",
       "      <th>0</th>\n",
       "      <th>x</th>\n",
       "      <th>y</th>\n",
       "    </tr>\n",
       "  </thead>\n",
       "  <tbody>\n",
       "    <tr>\n",
       "      <th>0</th>\n",
       "      <td>서울특별시 성북구 석관동 245-7</td>\n",
       "      <td>127.057876</td>\n",
       "      <td>37.610424</td>\n",
       "    </tr>\n",
       "    <tr>\n",
       "      <th>1</th>\n",
       "      <td>서울특별시 강서구 공항동 676-5</td>\n",
       "      <td>126.815828</td>\n",
       "      <td>37.555039</td>\n",
       "    </tr>\n",
       "    <tr>\n",
       "      <th>2</th>\n",
       "      <td>서울특별시 마포구 망원동 384-6</td>\n",
       "      <td>126.908425</td>\n",
       "      <td>37.554076</td>\n",
       "    </tr>\n",
       "    <tr>\n",
       "      <th>3</th>\n",
       "      <td>서울특별시 강서구 화곡동 1045-75</td>\n",
       "      <td>126.836016</td>\n",
       "      <td>37.541445</td>\n",
       "    </tr>\n",
       "    <tr>\n",
       "      <th>4</th>\n",
       "      <td>서울특별시 양천구 목동 527-6</td>\n",
       "      <td>126.873370</td>\n",
       "      <td>37.545846</td>\n",
       "    </tr>\n",
       "    <tr>\n",
       "      <th>...</th>\n",
       "      <td>...</td>\n",
       "      <td>...</td>\n",
       "      <td>...</td>\n",
       "    </tr>\n",
       "    <tr>\n",
       "      <th>48417</th>\n",
       "      <td>서울특별시 마포구 연남동 561-70</td>\n",
       "      <td>126.921294</td>\n",
       "      <td>37.561088</td>\n",
       "    </tr>\n",
       "    <tr>\n",
       "      <th>48418</th>\n",
       "      <td>서울특별시 용산구 원효로2가 80-28</td>\n",
       "      <td>126.962073</td>\n",
       "      <td>37.536785</td>\n",
       "    </tr>\n",
       "    <tr>\n",
       "      <th>48419</th>\n",
       "      <td>서울특별시 송파구 석촌동 245-31</td>\n",
       "      <td>127.100702</td>\n",
       "      <td>37.501366</td>\n",
       "    </tr>\n",
       "    <tr>\n",
       "      <th>48420</th>\n",
       "      <td>서울특별시 용산구 이태원동 225-46</td>\n",
       "      <td>126.989803</td>\n",
       "      <td>37.539926</td>\n",
       "    </tr>\n",
       "    <tr>\n",
       "      <th>48421</th>\n",
       "      <td>서울특별시 관악구 봉천동 218-23</td>\n",
       "      <td>126.961241</td>\n",
       "      <td>37.474996</td>\n",
       "    </tr>\n",
       "  </tbody>\n",
       "</table>\n",
       "<p>48422 rows × 3 columns</p>\n",
       "</div>"
      ],
      "text/plain": [
       "                           0           x          y\n",
       "0        서울특별시 성북구 석관동 245-7  127.057876  37.610424\n",
       "1        서울특별시 강서구 공항동 676-5  126.815828  37.555039\n",
       "2        서울특별시 마포구 망원동 384-6  126.908425  37.554076\n",
       "3      서울특별시 강서구 화곡동 1045-75  126.836016  37.541445\n",
       "4         서울특별시 양천구 목동 527-6  126.873370  37.545846\n",
       "...                      ...         ...        ...\n",
       "48417   서울특별시 마포구 연남동 561-70  126.921294  37.561088\n",
       "48418  서울특별시 용산구 원효로2가 80-28  126.962073  37.536785\n",
       "48419   서울특별시 송파구 석촌동 245-31  127.100702  37.501366\n",
       "48420  서울특별시 용산구 이태원동 225-46  126.989803  37.539926\n",
       "48421   서울특별시 관악구 봉천동 218-23  126.961241  37.474996\n",
       "\n",
       "[48422 rows x 3 columns]"
      ]
     },
     "execution_count": 4,
     "metadata": {},
     "output_type": "execute_result"
    }
   ],
   "source": [
    "data"
   ]
  },
  {
   "cell_type": "markdown",
   "id": "328821ea",
   "metadata": {},
   "source": [
    "## 2. 300m내의 개수, 최단거리 (코드번호 유무에 따라), 분류체크"
   ]
  },
  {
   "cell_type": "code",
   "execution_count": 5,
   "id": "916d14d3",
   "metadata": {},
   "outputs": [],
   "source": [
    "def _count(longitude, latitude):\n",
    "    params = {'query' : word, 'x' : round(float(longitude),6), 'y' : round(float(latitude),6), 'radius' : 300}\n",
    "    total = requests.get(url, params=params, headers=headers).json()['meta']['total_count']\n",
    "    return total\n",
    "def _distance(longitude, latitude):\n",
    "    params = {'query' : word, 'x' : round(float(longitude),6), 'y' : round(float(latitude),6), 'radius' : 1000}\n",
    "    places = requests.get(url, params=params, headers=headers).json()['documents']\n",
    "    if not places:\n",
    "        return np.NaN \n",
    "    else:\n",
    "        return places[0]['distance'] #최단거리\n",
    "    \n",
    "def _count_code(longitude, latitude):\n",
    "    params = {'query' : word, 'x' : round(float(longitude),6), 'y' : round(float(latitude),6), 'radius' : 300, 'category_group_code' : code}\n",
    "    total = requests.get(url, params=params, headers=headers).json()['meta']['total_count']\n",
    "    return total\n",
    "def _distance_code(longitude, latitude):\n",
    "    params = {'query' : word, 'x' : round(float(longitude),6), 'y' : round(float(latitude),6), 'radius' : 1000, 'category_group_code' : code}\n",
    "    places = requests.get(url, params=params, headers=headers).json()['documents']\n",
    "    if not places:\n",
    "        return np.NaN \n",
    "    else:\n",
    "        return places[0]['distance'] #최단거리\n",
    "    \n",
    "def check(longitude, latitude):\n",
    "    params = {'query' : word, 'x' : round(float(longitude),6), 'y' : round(float(latitude),6), 'radius' : 1000}\n",
    "    total = requests.get(url, params=params, headers=headers).json()['documents']\n",
    "    return total\n",
    "\n",
    "def check_code(longitude, latitude):\n",
    "    params = {'query' : word, 'x' : round(float(longitude),6), 'y' : round(float(latitude),6), 'radius' : 1000,'category_group_code' : code}\n",
    "    total = requests.get(url, params=params, headers=headers).json()['documents']\n",
    "    return total\n"
   ]
  },
  {
   "cell_type": "markdown",
   "id": "635e197b",
   "metadata": {},
   "source": [
    "## 3.분류체크"
   ]
  },
  {
   "cell_type": "code",
   "execution_count": 6,
   "id": "a2e64bfe",
   "metadata": {},
   "outputs": [],
   "source": [
    "test = data[:30]"
   ]
  },
  {
   "cell_type": "code",
   "execution_count": 7,
   "id": "42c4ef57",
   "metadata": {},
   "outputs": [
    {
     "data": {
      "text/plain": [
       "[{'address_name': '서울 성북구 석관동 349-8',\n",
       "  'category_group_code': 'SW8',\n",
       "  'category_group_name': '지하철역',\n",
       "  'category_name': '교통,수송 > 지하철,전철 > 수도권6호선',\n",
       "  'distance': '127',\n",
       "  'id': '1416598486',\n",
       "  'phone': '02-6311-6431',\n",
       "  'place_name': '돌곶이역 6호선',\n",
       "  'place_url': 'http://place.map.kakao.com/1416598486',\n",
       "  'road_address_name': '서울 성북구 화랑로 지하 243',\n",
       "  'x': '127.0564381246322',\n",
       "  'y': '37.61054501416126'},\n",
       " {'address_name': '서울 노원구 월계동 36-4',\n",
       "  'category_group_code': 'SW8',\n",
       "  'category_group_name': '지하철역',\n",
       "  'category_name': '교통,수송 > 지하철,전철 > 수도권1호선',\n",
       "  'distance': '856',\n",
       "  'id': '7946022',\n",
       "  'phone': '02-943-7788',\n",
       "  'place_name': '석계역 1호선',\n",
       "  'place_url': 'http://place.map.kakao.com/7946022',\n",
       "  'road_address_name': '서울 노원구 화랑로 341',\n",
       "  'x': '127.06568946412851',\n",
       "  'y': '37.61500552731744'},\n",
       " {'address_name': '서울 성북구 상월곡동 26-1',\n",
       "  'category_group_code': 'SW8',\n",
       "  'category_group_name': '지하철역',\n",
       "  'category_name': '교통,수송 > 지하철,전철 > 수도권6호선',\n",
       "  'distance': '906',\n",
       "  'id': '21160761',\n",
       "  'phone': '02-6311-6421',\n",
       "  'place_name': '상월곡역 6호선',\n",
       "  'place_url': 'http://place.map.kakao.com/21160761',\n",
       "  'road_address_name': '서울 성북구 화랑로 지하 157',\n",
       "  'x': '127.048829192974',\n",
       "  'y': '37.6065588265169'},\n",
       " {'address_name': '서울 노원구 월계동 25-2',\n",
       "  'category_group_code': 'SW8',\n",
       "  'category_group_name': '지하철역',\n",
       "  'category_name': '교통,수송 > 지하철,전철 > 수도권6호선',\n",
       "  'distance': '939',\n",
       "  'id': '21160670',\n",
       "  'phone': '02-6311-6441',\n",
       "  'place_name': '석계역 6호선',\n",
       "  'place_url': 'http://place.map.kakao.com/21160670',\n",
       "  'road_address_name': '서울 노원구 화랑로 지하 347-1',\n",
       "  'x': '127.066703301093',\n",
       "  'y': '37.6151491167469'},\n",
       " {'address_name': '서울 노원구 월계동 25-2',\n",
       "  'category_group_code': '',\n",
       "  'category_group_name': '',\n",
       "  'category_name': '서비스,산업 > 식품 > 담배 > 전자담배',\n",
       "  'distance': '935',\n",
       "  'id': '26498969',\n",
       "  'phone': '',\n",
       "  'place_name': '지하철전자담배',\n",
       "  'place_url': 'http://place.map.kakao.com/26498969',\n",
       "  'road_address_name': '',\n",
       "  'x': '127.066558410286',\n",
       "  'y': '37.6152465052978'}]"
      ]
     },
     "execution_count": 7,
     "metadata": {},
     "output_type": "execute_result"
    }
   ],
   "source": [
    "word = '지하철'\n",
    "code = 'SW8'\n",
    "\n",
    "check(test['x'][0],test['y'][0])"
   ]
  },
  {
   "cell_type": "code",
   "execution_count": 8,
   "id": "c89c046e",
   "metadata": {},
   "outputs": [],
   "source": [
    "# category_name 여행 > 공원 에서 끊기!"
   ]
  },
  {
   "cell_type": "markdown",
   "id": "58a13b18",
   "metadata": {},
   "source": [
    "## 4. api 검색 시작"
   ]
  },
  {
   "cell_type": "code",
   "execution_count": 8,
   "id": "aa238f0c",
   "metadata": {
    "scrolled": true
   },
   "outputs": [
    {
     "name": "stderr",
     "output_type": "stream",
     "text": [
      "100%|████████████████████████████████████████████████████████████████████████████| 48422/48422 [55:51<00:00, 14.45it/s]\n"
     ]
    }
   ],
   "source": [
    "word = '지하철'\n",
    "code = 'SW8'\n",
    "list_park_d = []\n",
    "list_park_c = []\n",
    "for i in tqdm(range(len(data))):\n",
    "    \n",
    "    list_check_d = [10000]                 # 초기값\n",
    "    list_check_c = []                 # 초기값\n",
    "    \n",
    "    tmp = check_code(data['x'][i], data['y'][i])\n",
    "    for j in range(len(tmp)):\n",
    "\n",
    "        list_check_d.append(int(tmp[j]['distance']))\n",
    "        if int(tmp[j]['distance']) <= 500:\n",
    "            list_check_c.append(int(tmp[j]['distance']))\n",
    "        \n",
    "    list_park_d.append(min(list_check_d))  # 최단거리 (10000m가 최소면 범위내에 없다는 뜻)\n",
    "    list_park_c.append(len(list_check_c))  # 300m내의 수\n",
    "    "
   ]
  },
  {
   "cell_type": "markdown",
   "id": "bf734266",
   "metadata": {},
   "source": [
    "## 5. 저장"
   ]
  },
  {
   "cell_type": "code",
   "execution_count": 9,
   "id": "2df6803c",
   "metadata": {},
   "outputs": [],
   "source": [
    "data['min_distance'] = list_park_d\n",
    "data['500m_count'] = list_park_c\n",
    "data.to_csv('./data/loc/subway.csv',index=False)"
   ]
  },
  {
   "cell_type": "code",
   "execution_count": null,
   "id": "e2d68f37",
   "metadata": {},
   "outputs": [],
   "source": []
  },
  {
   "cell_type": "code",
   "execution_count": null,
   "id": "624e6448",
   "metadata": {},
   "outputs": [],
   "source": []
  },
  {
   "cell_type": "code",
   "execution_count": 21,
   "id": "5935e061",
   "metadata": {},
   "outputs": [
    {
     "name": "stderr",
     "output_type": "stream",
     "text": [
      "100%|████████████████████████████████████████████████████████████████████████████| 48422/48422 [59:50<00:00, 13.49it/s]\n"
     ]
    }
   ],
   "source": [
    "word = '한강공원'\n",
    "\n",
    "list_park_d = []\n",
    "list_park_c = []\n",
    "for i in tqdm(range(len(data))):\n",
    "    \n",
    "    list_check_d = [10000]                 # 초기값\n",
    "    list_check_c = []                 # 초기값\n",
    "    \n",
    "    tmp = check(data['x'][i], data['y'][i])\n",
    "    for j in range(len(tmp)):\n",
    "\n",
    "        list_check_d.append(int(tmp[j]['distance']))\n",
    "        if int(tmp[j]['distance']) <= 500:\n",
    "            list_check_c.append(int(tmp[j]['distance']))\n",
    "        \n",
    "    list_park_d.append(min(list_check_d))  # 최단거리 (10000m가 최소면 범위내에 없다는 뜻)\n",
    "    list_park_c.append(len(list_check_c))  # 300m내의 수\n",
    "    "
   ]
  },
  {
   "cell_type": "code",
   "execution_count": 22,
   "id": "f71a3a20",
   "metadata": {},
   "outputs": [],
   "source": [
    "data['min_distance'] = list_park_d\n",
    "data['500m_count'] = list_park_c\n",
    "data.to_csv('./data/loc/riverpark.csv',index=False)"
   ]
  },
  {
   "cell_type": "code",
   "execution_count": 23,
   "id": "78e7d0ef",
   "metadata": {},
   "outputs": [],
   "source": [
    "headers = {\"Authorization\": \"KakaoAK 0390aaf75275c67a19c1d5ca48e4b8ae\"} # 조제"
   ]
  },
  {
   "cell_type": "code",
   "execution_count": 24,
   "id": "aacab90c",
   "metadata": {},
   "outputs": [
    {
     "name": "stderr",
     "output_type": "stream",
     "text": [
      "100%|████████████████████████████████████████████████████████████████████████████| 48422/48422 [55:34<00:00, 14.52it/s]\n"
     ]
    }
   ],
   "source": [
    "word = '다이소'\n",
    "\n",
    "list_park_d = []\n",
    "list_park_c = []\n",
    "for i in tqdm(range(len(data))):\n",
    "    \n",
    "    list_check_d = [10000]                 # 초기값\n",
    "    list_check_c = []                 # 초기값\n",
    "    \n",
    "    tmp = check(data['x'][i], data['y'][i])\n",
    "    for j in range(len(tmp)):\n",
    "\n",
    "        list_check_d.append(int(tmp[j]['distance']))\n",
    "        if int(tmp[j]['distance']) <= 500:\n",
    "            list_check_c.append(int(tmp[j]['distance']))\n",
    "        \n",
    "    list_park_d.append(min(list_check_d))  # 최단거리 (10000m가 최소면 범위내에 없다는 뜻)\n",
    "    list_park_c.append(len(list_check_c))  # 300m내의 수\n",
    "    "
   ]
  },
  {
   "cell_type": "code",
   "execution_count": 25,
   "id": "3ce7c468",
   "metadata": {},
   "outputs": [],
   "source": [
    "data['min_distance'] = list_park_d\n",
    "data['500m_count'] = list_park_c\n",
    "data.to_csv('./data/loc/daiso.csv',index=False)"
   ]
  },
  {
   "cell_type": "code",
   "execution_count": null,
   "id": "738e7de0",
   "metadata": {},
   "outputs": [],
   "source": []
  }
 ],
 "metadata": {
  "kernelspec": {
   "display_name": "Python 3 (ipykernel)",
   "language": "python",
   "name": "python3"
  },
  "language_info": {
   "codemirror_mode": {
    "name": "ipython",
    "version": 3
   },
   "file_extension": ".py",
   "mimetype": "text/x-python",
   "name": "python",
   "nbconvert_exporter": "python",
   "pygments_lexer": "ipython3",
   "version": "3.8.12"
  }
 },
 "nbformat": 4,
 "nbformat_minor": 5
}
